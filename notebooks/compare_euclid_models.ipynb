{
 "cells": [
  {
   "cell_type": "code",
   "execution_count": null,
   "id": "6485a853-5274-48aa-9efe-8cfdc2e61263",
   "metadata": {},
   "outputs": [],
   "source": [
    "from photerr import EuclidWideErrorModel, EuclidDeepErrorModel\n",
    "import numpy as np\n",
    "import matplotlib.pyplot as plt\n",
    "import pandas as pd"
   ]
  },
  {
   "cell_type": "code",
   "execution_count": null,
   "id": "6df17544-955d-40f5-acd3-56106506442b",
   "metadata": {},
   "outputs": [],
   "source": [
    "wide = EuclidWideErrorModel(decorrelate=False, errLoc=\"alone\")\n",
    "deep = EuclidDeepErrorModel(decorrelate=False, errLoc=\"alone\")"
   ]
  },
  {
   "cell_type": "code",
   "execution_count": null,
   "id": "61a2fc23-5467-4a4b-986b-224af156f44d",
   "metadata": {},
   "outputs": [],
   "source": [
    "bands = [\"VIS\"] + list(\"YJH\")\n",
    "grid = np.linspace(23, 30, 10_000)\n",
    "mags = pd.DataFrame(np.vstack(len(bands) * [grid]).T, columns=bands)"
   ]
  },
  {
   "cell_type": "code",
   "execution_count": null,
   "id": "25a5f88d-3c1b-4ba0-8aa8-4d919d6fe12e",
   "metadata": {},
   "outputs": [],
   "source": [
    "wide_errs = wide(mags)\n",
    "deep_errs = deep(mags)\n",
    "\n",
    "wide_m5 = wide.getLimitingMags()\n",
    "deep_m5 = deep.getLimitingMags()"
   ]
  },
  {
   "cell_type": "code",
   "execution_count": null,
   "id": "974c494e",
   "metadata": {},
   "outputs": [],
   "source": [
    "fig, axes = plt.subplots(2, 2, figsize=(8, 5), dpi=100, constrained_layout=True)\n",
    "\n",
    "for i, band in enumerate(bands):\n",
    "    ax = axes.flatten()[i]\n",
    "    ax.set(xlabel=f\"${band}$ [mag]\", ylabel=f\"${band}$ err [mag]\")\n",
    "    ax.plot(mags[band], wide_errs[f\"{band}_err\"], label=\"Wide\")\n",
    "    ax.plot(mags[band], deep_errs[f\"{band}_err\"], label=\"Deep\")\n",
    "    ax.axvline(wide_m5[band], ls=\"--\", c=\"C0\")\n",
    "    ax.axvline(deep_m5[band], ls=\"--\", c=\"C1\")\n",
    "    ax.legend()\n",
    "\n",
    "fig.suptitle(\"Euclid Error Model\")"
   ]
  },
  {
   "cell_type": "code",
   "execution_count": null,
   "id": "def8ef17-ff7b-4ad3-b6d2-249b64156ebb",
   "metadata": {},
   "outputs": [],
   "source": []
  }
 ],
 "metadata": {
  "kernelspec": {
   "display_name": "photerr",
   "language": "python",
   "name": "python3"
  },
  "language_info": {
   "codemirror_mode": {
    "name": "ipython",
    "version": 3
   },
   "file_extension": ".py",
   "mimetype": "text/x-python",
   "name": "python",
   "nbconvert_exporter": "python",
   "pygments_lexer": "ipython3",
   "version": "3.10.13"
  }
 },
 "nbformat": 4,
 "nbformat_minor": 5
}
