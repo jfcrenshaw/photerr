{
 "cells": [
  {
   "cell_type": "code",
   "execution_count": null,
   "id": "6485a853-5274-48aa-9efe-8cfdc2e61263",
   "metadata": {},
   "outputs": [],
   "source": [
    "from photerr import (\n",
    "    RomanWideErrorModel,\n",
    "    RomanMediumErrorModel,\n",
    "    RomanDeepErrorModel,\n",
    "    RomanUltraDeepErrorModel,\n",
    ")\n",
    "import numpy as np\n",
    "import matplotlib.pyplot as plt\n",
    "import pandas as pd"
   ]
  },
  {
   "cell_type": "code",
   "execution_count": null,
   "id": "6df17544-955d-40f5-acd3-56106506442b",
   "metadata": {},
   "outputs": [],
   "source": [
    "wide = RomanWideErrorModel(decorrelate=False, errLoc=\"alone\")\n",
    "medium = RomanMediumErrorModel(decorrelate=False, errLoc=\"alone\")\n",
    "deep = RomanDeepErrorModel(decorrelate=False, errLoc=\"alone\")\n",
    "ultradeep = RomanUltraDeepErrorModel(decorrelate=False, errLoc=\"alone\")"
   ]
  },
  {
   "cell_type": "code",
   "execution_count": null,
   "id": "61a2fc23-5467-4a4b-986b-224af156f44d",
   "metadata": {},
   "outputs": [],
   "source": [
    "bands = list(\"ZYJHFKW\")\n",
    "grid = np.linspace(23, 30, 10_000)\n",
    "mags = pd.DataFrame(np.vstack(len(bands) * [grid]).T, columns=bands)"
   ]
  },
  {
   "cell_type": "code",
   "execution_count": null,
   "id": "25a5f88d-3c1b-4ba0-8aa8-4d919d6fe12e",
   "metadata": {},
   "outputs": [],
   "source": [
    "wide_errs = wide(mags)\n",
    "medium_errs = medium(mags)\n",
    "deep_errs = deep(mags)\n",
    "ultradeep_errs = ultradeep(mags)\n",
    "\n",
    "wide_m5 = wide.getLimitingMags()\n",
    "medium_m5 = medium.getLimitingMags()\n",
    "deep_m5 = deep.getLimitingMags()\n",
    "ultradeep_m5 = ultradeep.getLimitingMags()"
   ]
  },
  {
   "cell_type": "code",
   "execution_count": null,
   "id": "2ac532ab-07dc-49cc-a7dc-68c9315d97ab",
   "metadata": {},
   "outputs": [],
   "source": [
    "fig, axes = plt.subplots(3, 3, figsize=(12, 7.5), dpi=100, constrained_layout=True)\n",
    "\n",
    "for ax, band in zip(axes.flatten(), bands):\n",
    "    ax.set(xlabel=f\"${band}$ [mag]\", ylabel=f\"${band}$ err [mag]\")\n",
    "\n",
    "    if band in wide._bands:\n",
    "        ax.plot(mags[band], wide_errs[f\"{band}_err\"], label=\"Wide\", c=\"C0\")\n",
    "        ax.axvline(wide_m5[band], ls=\"--\", c=\"C0\")\n",
    "    if band in medium._bands:\n",
    "        ax.plot(mags[band], medium_errs[f\"{band}_err\"], label=\"Medium\", c=\"C1\")\n",
    "        ax.axvline(medium_m5[band], ls=\"--\", c=\"C1\")\n",
    "    if band in deep._bands:\n",
    "        ax.plot(mags[band], deep_errs[f\"{band}_err\"], label=\"Deep\", c=\"C2\")\n",
    "        ax.axvline(deep_m5[band], ls=\"--\", c=\"C2\")\n",
    "    if band in ultradeep._bands:\n",
    "        ax.plot(mags[band], ultradeep_errs[f\"{band}_err\"], label=\"Ultra Deep\", c=\"C3\")\n",
    "        ax.axvline(ultradeep_m5[band], ls=\"--\", c=\"C3\")\n",
    "\n",
    "    ax.legend()\n",
    "\n",
    "axes[2, 1].set_axis_off()\n",
    "axes[2, 2].set_axis_off()\n",
    "\n",
    "fig.suptitle(\"Roman Error Model\")"
   ]
  },
  {
   "cell_type": "code",
   "execution_count": null,
   "id": "08ed3ee2",
   "metadata": {},
   "outputs": [],
   "source": []
  }
 ],
 "metadata": {
  "kernelspec": {
   "display_name": "photerr",
   "language": "python",
   "name": "python3"
  },
  "language_info": {
   "codemirror_mode": {
    "name": "ipython",
    "version": 3
   },
   "file_extension": ".py",
   "mimetype": "text/x-python",
   "name": "python",
   "nbconvert_exporter": "python",
   "pygments_lexer": "ipython3",
   "version": "3.10.13"
  }
 },
 "nbformat": 4,
 "nbformat_minor": 5
}
