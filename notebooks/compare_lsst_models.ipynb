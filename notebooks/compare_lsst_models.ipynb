{
 "cells": [
  {
   "cell_type": "code",
   "execution_count": null,
   "id": "6485a853-5274-48aa-9efe-8cfdc2e61263",
   "metadata": {},
   "outputs": [],
   "source": [
    "from photerr import LsstErrorModel, LsstErrorModelV1\n",
    "import numpy as np\n",
    "import matplotlib.pyplot as plt\n",
    "import pandas as pd"
   ]
  },
  {
   "cell_type": "code",
   "execution_count": null,
   "id": "6df17544-955d-40f5-acd3-56106506442b",
   "metadata": {},
   "outputs": [],
   "source": [
    "em1 = LsstErrorModelV1(decorrelate=False, errLoc=\"alone\")\n",
    "em2 = LsstErrorModel(\n",
    "    decorrelate=False,\n",
    "    errLoc=\"alone\",\n",
    "    airmass=1.2,\n",
    "    msky=em1.params.msky,\n",
    "    mskyDark=em1.params.mskyDark,\n",
    "    theta=em1.params.theta,\n",
    ")"
   ]
  },
  {
   "cell_type": "code",
   "execution_count": null,
   "id": "61a2fc23-5467-4a4b-986b-224af156f44d",
   "metadata": {},
   "outputs": [],
   "source": [
    "bands = list(\"ugrizy\")\n",
    "grid = np.linspace(23, 30, 1000)\n",
    "mags = pd.DataFrame(np.vstack(len(bands) * [grid]).T, columns=bands)"
   ]
  },
  {
   "cell_type": "code",
   "execution_count": null,
   "id": "25a5f88d-3c1b-4ba0-8aa8-4d919d6fe12e",
   "metadata": {},
   "outputs": [],
   "source": [
    "errs1 = em1(mags)\n",
    "errs2 = em2(mags)\n",
    "\n",
    "m51 = em1.getLimitingMags()\n",
    "m52 = em2.getLimitingMags()"
   ]
  },
  {
   "cell_type": "code",
   "execution_count": null,
   "id": "2ac532ab-07dc-49cc-a7dc-68c9315d97ab",
   "metadata": {},
   "outputs": [],
   "source": [
    "fig, axes = plt.subplots(2, 3, figsize=(12, 5), dpi=150, constrained_layout=True)\n",
    "\n",
    "for i, band in enumerate(bands):\n",
    "    ax = axes.flatten()[i]\n",
    "    ax.set(xlabel=f\"${band}$ [mag]\", ylabel=f\"${band}$ err [mag]\")\n",
    "    ax.plot(mags[band], errs1[f\"{band}_err\"], label=\"Old model\")\n",
    "    ax.plot(mags[band], errs2[f\"{band}_err\"], label=\"New model\")\n",
    "    ax.axvline(m51[band], ls=\"--\", c=\"C0\", label=\"Old coadded $m_5$\")\n",
    "    ax.axvline(m52[band], ls=\"--\", c=\"C1\", label=\"New coadded $m_5$\")\n",
    "    ax.legend()"
   ]
  },
  {
   "cell_type": "code",
   "execution_count": null,
   "id": "6ecef047-4c1f-4616-aed1-dbfc2b21ad39",
   "metadata": {},
   "outputs": [],
   "source": [
    "LsstErrorModel().getLimitingMags(coadded=False)"
   ]
  },
  {
   "cell_type": "code",
   "execution_count": null,
   "id": "def8ef17-ff7b-4ad3-b6d2-249b64156ebb",
   "metadata": {},
   "outputs": [],
   "source": []
  }
 ],
 "metadata": {
  "kernelspec": {
   "display_name": "Python 3 (ipykernel)",
   "language": "python",
   "name": "python3"
  },
  "language_info": {
   "codemirror_mode": {
    "name": "ipython",
    "version": 3
   },
   "file_extension": ".py",
   "mimetype": "text/x-python",
   "name": "python",
   "nbconvert_exporter": "python",
   "pygments_lexer": "ipython3",
   "version": "3.10.13"
  }
 },
 "nbformat": 4,
 "nbformat_minor": 5
}
